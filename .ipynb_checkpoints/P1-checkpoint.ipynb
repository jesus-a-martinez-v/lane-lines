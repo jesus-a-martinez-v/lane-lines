{
 "cells": [
  {
   "cell_type": "markdown",
   "metadata": {},
   "source": [
    "# **Finding Lane Lines on the Road** \n",
    "***\n",
    "In this project, you will use the tools you learned about in the lesson to identify lane lines on the road.  You can develop your pipeline on a series of individual images, and later apply the result to a video stream (really just a series of images). Check out the video clip \"raw-lines-example.mp4\" (also contained in this repository) to see what the output should look like after using the helper functions below. \n",
    "\n",
    "Once you have a result that looks roughly like \"raw-lines-example.mp4\", you'll need to get creative and try to average and/or extrapolate the line segments you've detected to map out the full extent of the lane lines.  You can see an example of the result you're going for in the video \"P1_example.mp4\".  Ultimately, you would like to draw just one line for the left side of the lane, and one for the right.\n",
    "\n",
    "---\n",
    "Let's have a look at our first image called 'test_images/solidWhiteRight.jpg'.  Run the 2 cells below (hit Shift-Enter or the \"play\" button above) to display the image.\n",
    "\n",
    "**Note** If, at any point, you encounter frozen display windows or other confounding issues, you can always start again with a clean slate by going to the \"Kernel\" menu above and selecting \"Restart & Clear Output\".\n",
    "\n",
    "---"
   ]
  },
  {
   "cell_type": "markdown",
   "metadata": {},
   "source": [
    "**The tools you have are color selection, region of interest selection, grayscaling, Gaussian smoothing, Canny Edge Detection and Hough Tranform line detection.  You  are also free to explore and try other techniques that were not presented in the lesson.  Your goal is piece together a pipeline to detect the line segments in the image, then average/extrapolate them and draw them onto the image for display (as below).  Once you have a working pipeline, try it out on the video stream below.**\n",
    "\n",
    "---\n",
    "\n",
    "<figure>\n",
    " <img src=\"line-segments-example.jpg\" width=\"380\" alt=\"Combined Image\" />\n",
    " <figcaption>\n",
    " <p></p> \n",
    " <p style=\"text-align: center;\"> Your output should look something like this (above) after detecting line segments using the helper functions below </p> \n",
    " </figcaption>\n",
    "</figure>\n",
    " <p></p> \n",
    "<figure>\n",
    " <img src=\"laneLines_thirdPass.jpg\" width=\"380\" alt=\"Combined Image\" />\n",
    " <figcaption>\n",
    " <p></p> \n",
    " <p style=\"text-align: center;\"> Your goal is to connect/average/extrapolate line segments to get output like this</p> \n",
    " </figcaption>\n",
    "</figure>"
   ]
  },
  {
   "cell_type": "code",
   "execution_count": null,
   "metadata": {
    "collapsed": false
   },
   "outputs": [],
   "source": [
    "#importing some useful packages\n",
    "import matplotlib.pyplot as plt\n",
    "import matplotlib.image as mpimg\n",
    "import numpy as np\n",
    "import cv2\n",
    "%matplotlib inline"
   ]
  },
  {
   "cell_type": "code",
   "execution_count": null,
   "metadata": {
    "collapsed": false
   },
   "outputs": [],
   "source": [
    "#reading in an image\n",
    "image = mpimg.imread('test_images/solidWhiteRight.jpg')\n",
    "#printing out some stats and plotting\n",
    "print('This image is:', type(image), 'with dimesions:', image.shape)\n",
    "plt.imshow(image)  #call as plt.imshow(gray, cmap='gray') to show a grayscaled image"
   ]
  },
  {
   "cell_type": "markdown",
   "metadata": {},
   "source": [
    "**Some OpenCV functions (beyond those introduced in the lesson) that might be useful for this project are:**\n",
    "\n",
    "`cv2.inRange()` for color selection  \n",
    "\n",
    "`cv2.fillPoly()` for regions selection  \n",
    "\n",
    "`cv2.line()` to draw lines on an image given endpoints  \n",
    "\n",
    "`cv2.addWeighted()` to coadd / overlay two images\n",
    "\n",
    "`cv2.cvtColor()` to grayscale or change color\n",
    "\n",
    "`cv2.imwrite()` to output images to file  \n",
    "\n",
    "`cv2.bitwise_and()` to apply a mask to an image\n",
    "\n",
    "**Check out the OpenCV documentation to learn about these and discover even more awesome functionality!**"
   ]
  },
  {
   "cell_type": "markdown",
   "metadata": {},
   "source": [
    "Below are some helper functions to help get you started. They should look familiar from the lesson!"
   ]
  },
  {
   "cell_type": "code",
   "execution_count": null,
   "metadata": {
    "collapsed": false
   },
   "outputs": [],
   "source": [
    "import math\n",
    "\n",
    "def grayscale(img):\n",
    "    \"\"\"Applies the Grayscale transform\n",
    "    This will return an image with only one color channel\n",
    "    but NOTE: to see the returned image as grayscale\n",
    "    you should call plt.imshow(gray, cmap='gray')\"\"\"\n",
    "    return cv2.cvtColor(img, cv2.COLOR_BGR2GRAY)\n",
    "    \n",
    "def canny(img, low_threshold, high_threshold):\n",
    "    \"\"\"Applies the Canny transform\"\"\"\n",
    "    return cv2.Canny(img, low_threshold, high_threshold)\n",
    "\n",
    "def gaussian_blur(img, kernel_size):\n",
    "    \"\"\"Applies a Gaussian Noise kernel\"\"\"\n",
    "    return cv2.GaussianBlur(img, (kernel_size, kernel_size), 0)\n",
    "\n",
    "def region_of_interest(img, vertices):\n",
    "    \"\"\"\n",
    "    Applies an image mask.\n",
    "    \n",
    "    Only keeps the region of the image defined by the polygon\n",
    "    formed from `vertices`. The rest of the image is set to black.\n",
    "    \"\"\"\n",
    "    #defining a blank mask to start with\n",
    "    mask = np.zeros_like(img)   \n",
    "    \n",
    "    #defining a 3 channel or 1 channel color to fill the mask with depending on the input image\n",
    "    if len(img.shape) > 2:\n",
    "        channel_count = img.shape[2]  # i.e. 3 or 4 depending on your image\n",
    "        ignore_mask_color = (255,) * channel_count\n",
    "    else:\n",
    "        ignore_mask_color = 255\n",
    "        \n",
    "    #filling pixels inside the polygon defined by \"vertices\" with the fill color    \n",
    "    cv2.fillPoly(mask, vertices, ignore_mask_color)\n",
    "    \n",
    "    #returning the image only where mask pixels are nonzero\n",
    "    masked_image = cv2.bitwise_and(img, mask)\n",
    "    return masked_image\n",
    "\n",
    "def get_slope(line):\n",
    "    \"\"\"Calculates the slope of a line\"\"\"\n",
    "    x1,y1,x2,y2 = line\n",
    "    return (y2 - y1) / (x2 - x1)\n",
    "\n",
    "def build_line(slopes, xs, ys, y_min, y_max):\n",
    "    \"\"\"\n",
    "    Builds a line that represents the average line of the input parameters.\n",
    "    \"\"\"\n",
    "    m = np.mean(slopes)\n",
    "    x_mean = np.mean(xs)\n",
    "    y_mean = np.mean(ys)\n",
    "    b = y_mean - m * x_mean\n",
    "    x_max = (y_max - b) / m\n",
    "    x_min = (y_min - b) / m\n",
    "        \n",
    "    return [x_min, y_min, x_max, y_max]\n",
    "\n",
    "def draw_lines(img, lines, color=[255, 0, 0], thickness=2):\n",
    "    \"\"\"\n",
    "    This function draws `lines` with `color` and `thickness`.    \n",
    "    Lines are drawn on the image inplace (mutates the image).\n",
    "    If you want to make the lines semi-transparent, think about combining\n",
    "    this function with the weighted_img() function below\n",
    "    \"\"\"\n",
    "    \n",
    "    for line in lines:\n",
    "       for x1,y1,x2,y2 in line:\n",
    "           cv2.line(img, (x1, y1), (x2, y2), color, thickness)\n",
    "    \n",
    "def draw_solid_lines(img, lines, history, color=[255, 0, 0], thickness=2):\n",
    "    \"\"\"\n",
    "    This function draws solid `lines` with `color` and `thickness`. It takes into account the `history` of lines\n",
    "    previously drawn on similar images. This function is intended to be used in video processing where the `history`\n",
    "    of past frames are considered to reduced noise and bumpy lines.\n",
    "    \"\"\"\n",
    "    # Rename global history parameters. Any modification done to these variables will perdure long after the \n",
    "    # execution of this function has ended.\n",
    "    left_lane_slopes = history['left_slopes']\n",
    "    left_lane_xs = history['left_xs']\n",
    "    left_lane_ys = history['left_ys']\n",
    "    right_lane_slopes = history['right_slopes']\n",
    "    right_lane_xs = history['right_xs']\n",
    "    right_lane_ys = history['right_ys']\n",
    "    \n",
    "    for l in lines:\n",
    "        line = l[0]\n",
    "        x1, y1, x2, y2 = line  # Unpack\n",
    "        m = get_slope(line)\n",
    "        \n",
    "        # Only consider lines with slopes within this range. \n",
    "        if 0.2 <= abs(m) <= 0.8: \n",
    "            if m > 0:\n",
    "                left_lane_slopes.append(m)\n",
    "                left_lane_xs += [x1, x2]\n",
    "                left_lane_ys += [y1, y2]\n",
    "            else:\n",
    "                right_lane_slopes.append(m)\n",
    "                right_lane_xs += [x1, x2]\n",
    "                right_lane_ys += [y1, y2]\n",
    "            \n",
    "    y_min_global = min(left_lane_ys + right_lane_ys)\n",
    "    y_max_global = img.shape[0]\n",
    "\n",
    "    \n",
    "    # Build left line\n",
    "    lx1, ly1, lx2, ly2 = build_line(left_lane_slopes, left_lane_xs, left_lane_ys, y_min_global, y_max_global)\n",
    "    \n",
    "    # Build right line\n",
    "    rx1, ry1, rx2, ry2 = build_line(right_lane_slopes, right_lane_xs, right_lane_ys, y_min_global, y_max_global)\n",
    "\n",
    "    # Draw left and right lane lines.\n",
    "    cv2.line(img, (math.floor(lx1), math.floor(ly1)), (math.floor(lx2), math.floor(ly2)), color, thickness)\n",
    "    cv2.line(img, (math.ceil(rx1), math.ceil(ry1)), (math.ceil(rx2), math.ceil(ry2)), color, thickness)\n",
    "    \n",
    "    \n",
    "def hough_lines(img, rho, theta, threshold, min_line_len, max_line_gap, history=None):\n",
    "    \"\"\"\n",
    "    `img` should be the output of a Canny transform.\n",
    "        \n",
    "    Returns a blank image to draw on and an array of lines found by Hough Transform algorithm.\n",
    "    \"\"\"\n",
    "    lines = cv2.HoughLinesP(img, rho, theta, threshold, np.array([]), minLineLength=min_line_len, maxLineGap=max_line_gap)\n",
    "    line_img = np.zeros((*img.shape, 3), dtype=np.uint8)\n",
    "\n",
    "    return line_img, lines\n",
    "\n",
    "# Python 3 has support for cool math symbols.\n",
    "\n",
    "def weighted_img(img, initial_img, α=0.8, β=1., λ=0.):\n",
    "    \"\"\"\n",
    "    `img` is the output of the hough_lines(), An image with lines drawn on it.\n",
    "    Should be a blank image (all black) with lines drawn on it.\n",
    "    \n",
    "    `initial_img` should be the image before any processing.\n",
    "    \n",
    "    The result image is computed as follows:\n",
    "    \n",
    "    initial_img * α + img * β + λ\n",
    "    NOTE: initial_img and img must be the same shape!\n",
    "    \"\"\"\n",
    "    return cv2.addWeighted(initial_img, α, img, β, λ)"
   ]
  },
  {
   "cell_type": "markdown",
   "metadata": {},
   "source": [
    "Here's our pipeline definition:\n",
    "\n"
   ]
  },
  {
   "cell_type": "code",
   "execution_count": null,
   "metadata": {
    "collapsed": false
   },
   "outputs": [],
   "source": [
    "def find_lane_lines(image, parameters, history=None):\n",
    "    \"\"\"\n",
    "    Finds lane lines on a image of a road. If history is defined, then the lines drawn on top of the image will \n",
    "    be solid. If not, they will be dashed. The format of history is as follows:\n",
    "    history = {\n",
    "            'left_slopes': [],\n",
    "            'right_slopes': [],\n",
    "            'left_xs': [],\n",
    "            'right_xs': [],\n",
    "            'left_ys': [],\n",
    "            'right_ys': []\n",
    "            }\n",
    "    \n",
    "    The format of the parameters dict must be as follows (example):\n",
    "    params = {\n",
    "        # Canny Edge parameters.\n",
    "        'low_threshold': 60,\n",
    "        'high_threshold': 180,\n",
    "        # Gaussian blur parameters.\n",
    "        'kernel_size': 7,\n",
    "        # Masked region parameters.\n",
    "        'vertices': np.array([[(110, Y_length), (410, 350), (570, 350), (900, Y_length)]], dtype=np.int32),\n",
    "        # Hough Transform parameters.\n",
    "        'rho': 1,\n",
    "        'theta': np.pi / 180,\n",
    "        'hough_threshold': 10,\n",
    "        'min_line_length': 15,\n",
    "        'max_line_gap': 20\n",
    "    }\n",
    "    \n",
    "    \"\"\"\n",
    "    # Unpack parameters:\n",
    "    low_threshold = parameters['low_threshold']\n",
    "    high_threshold = parameters['high_threshold']\n",
    "    kernel_size = parameters['kernel_size']\n",
    "    vertices = parameters['vertices']\n",
    "    rho = parameters['rho']\n",
    "    theta = parameters['theta']\n",
    "    hough_threshold = parameters['hough_threshold']\n",
    "    min_line_length = parameters['min_line_length']\n",
    "    max_line_gap = parameters['max_line_gap']\n",
    "    \n",
    "    # Let's turn it into grayscale:\n",
    "    gray_image = grayscale(image)\n",
    "    \n",
    "    # Now, let's blur it\n",
    "    blurred_image = gaussian_blur(gray_image, kernel_size)\n",
    "    \n",
    "    # Apply Canny Edges transform:\n",
    "    edges_image = canny(blurred_image, low_threshold, high_threshold)\n",
    "    \n",
    "    masked_image = region_of_interest(edges_image, vertices)\n",
    "    \n",
    "    # Get the image and the lanes lines that'll be drawn on top of it.\n",
    "    lines_img, lines = hough_lines(masked_image, rho, theta, hough_threshold, min_line_length, max_line_gap, history)\n",
    "    \n",
    "    # If history is defined, it means we'll draw solid lines. Otherwise, dashed lines.\n",
    "    if history:\n",
    "        draw_solid_lines(lines_img, lines, thickness=11, history=history)\n",
    "    else:\n",
    "        draw_lines(lines_img, lines, thickness=11)\n",
    "    \n",
    "    # Return the original image with lane lines drawed on top of it.\n",
    "    return weighted_img(lines_img, image)\n",
    "    "
   ]
  },
  {
   "cell_type": "markdown",
   "metadata": {},
   "source": [
    "## Test on Images\n",
    "\n",
    "Now you should build your pipeline to work on the images in the directory \"test_images\"  \n",
    "**You should make sure your pipeline works well on these images before you try the videos.**"
   ]
  },
  {
   "cell_type": "code",
   "execution_count": null,
   "metadata": {
    "collapsed": false
   },
   "outputs": [],
   "source": [
    "import os\n",
    "for img in os.listdir(\"test_images/\"):\n",
    "    image = mpimg.imread(\"test_images/\" + img)\n",
    "    Y_length, X_length, _ = image.shape\n",
    "\n",
    "    params = {\n",
    "        'low_threshold': 60,\n",
    "        'high_threshold': 180,\n",
    "        'kernel_size': 7,\n",
    "        'vertices': np.array([[(110, Y_length), (410, 350), (570, 350), (900, Y_length)]], dtype=np.int32),\n",
    "        'rho': 1,\n",
    "        'theta': np.pi / 180,\n",
    "        'hough_threshold': 10,\n",
    "        'min_line_length': 15,\n",
    "        'max_line_gap': 20\n",
    "    }\n",
    "    \n",
    "    cv2.imwrite(\"test_images/copy_\" + img, find_lane_lines(image, params))"
   ]
  },
  {
   "cell_type": "markdown",
   "metadata": {},
   "source": [
    "run your solution on all test_images and make copies into the test_images directory)."
   ]
  },
  {
   "cell_type": "markdown",
   "metadata": {},
   "source": [
    "## Test on Videos\n",
    "\n",
    "You know what's cooler than drawing lanes over images? Drawing lanes over video!\n",
    "\n",
    "We can test our solution on two provided videos:\n",
    "\n",
    "`solidWhiteRight.mp4`\n",
    "\n",
    "`solidYellowLeft.mp4`"
   ]
  },
  {
   "cell_type": "code",
   "execution_count": null,
   "metadata": {
    "collapsed": false
   },
   "outputs": [],
   "source": [
    "# Import everything needed to edit/save/watch video clips\n",
    "from moviepy.editor import VideoFileClip\n",
    "from IPython.display import HTML"
   ]
  },
  {
   "cell_type": "code",
   "execution_count": null,
   "metadata": {
    "collapsed": false
   },
   "outputs": [],
   "source": [
    "# Use clean history to process the video below.\n",
    "history = {\n",
    "            'left_slopes': [],\n",
    "            'right_slopes': [],\n",
    "            'left_xs': [],\n",
    "            'right_xs': [],\n",
    "            'left_ys': [],\n",
    "            'right_ys': []\n",
    "            }\n",
    "def process_image(image, dashed=False):\n",
    "    \"\"\"\n",
    "    Takes an image of a road and draws lanes on top of it, which identify the lane lines.\n",
    "    \"\"\"\n",
    "    Y_length, X_length, _ = image.shape\n",
    "\n",
    "    params = {\n",
    "        'low_threshold': 60,\n",
    "        'high_threshold': 180,\n",
    "        'kernel_size': 7,\n",
    "        'vertices': np.array([[(110, Y_length), (410, 350), (570, 350), (900, Y_length)]], dtype=np.int32),\n",
    "        'rho': 1,\n",
    "        'theta': np.pi / 180,\n",
    "        'hough_threshold': 10,\n",
    "        'min_line_length': 15,\n",
    "        'max_line_gap': 20\n",
    "    }\n",
    "    \n",
    "    if dashed:\n",
    "        result_img = find_lane_lines(image, params)\n",
    "    else:\n",
    "        result_img = find_lane_lines(image, params, history)\n",
    "\n",
    "    return result_img"
   ]
  },
  {
   "cell_type": "markdown",
   "metadata": {},
   "source": [
    "Let's try the one with the solid white lane on the right first ..."
   ]
  },
  {
   "cell_type": "code",
   "execution_count": null,
   "metadata": {
    "collapsed": false
   },
   "outputs": [],
   "source": [
    "white_output = 'white.mp4'\n",
    "clip1 = VideoFileClip(\"solidWhiteRight.mp4\")\n",
    "white_clip = clip1.fl_image(process_image) #NOTE: this function expects color images!!\n",
    "%time white_clip.write_videofile(white_output, audio=False)"
   ]
  },
  {
   "cell_type": "markdown",
   "metadata": {},
   "source": [
    "Play the video inline, or if you prefer find the video in your filesystem (should be in the same directory) and play it in your video player of choice."
   ]
  },
  {
   "cell_type": "code",
   "execution_count": null,
   "metadata": {
    "collapsed": false
   },
   "outputs": [],
   "source": [
    "HTML(\"\"\"\n",
    "<video width=\"960\" height=\"540\" controls>\n",
    "  <source src=\"{0}\">\n",
    "</video>\n",
    "\"\"\".format(white_output))"
   ]
  },
  {
   "cell_type": "markdown",
   "metadata": {},
   "source": [
    "**At this point, if you were successful you probably have the Hough line segments drawn onto the road, but what about identifying the full extent of the lane and marking it clearly as in the example video (P1_example.mp4)?  Think about defining a line to run the full length of the visible lane based on the line segments you identified with the Hough Transform.  Modify your draw_lines function accordingly and try re-running your pipeline.**"
   ]
  },
  {
   "cell_type": "markdown",
   "metadata": {},
   "source": [
    "Now for the one with the solid yellow lane on the left. This one's more tricky!"
   ]
  },
  {
   "cell_type": "code",
   "execution_count": null,
   "metadata": {
    "collapsed": false
   },
   "outputs": [],
   "source": [
    "# Reset history for the yellow lines video.\n",
    "history = {\n",
    "            'left_slopes': [],\n",
    "            'right_slopes': [],\n",
    "            'left_xs': [],\n",
    "            'right_xs': [],\n",
    "            'left_ys': [],\n",
    "            'right_ys': []\n",
    "            }\n",
    "\n",
    "yellow_output = 'yellow.mp4'\n",
    "clip2 = VideoFileClip('solidYellowLeft.mp4')\n",
    "yellow_clip = clip2.fl_image(process_image)\n",
    "%time yellow_clip.write_videofile(yellow_output, audio=False)"
   ]
  },
  {
   "cell_type": "code",
   "execution_count": null,
   "metadata": {
    "collapsed": false
   },
   "outputs": [],
   "source": [
    "HTML(\"\"\"\n",
    "<video width=\"960\" height=\"540\" controls>\n",
    "  <source src=\"{0}\">\n",
    "</video>\n",
    "\"\"\".format(yellow_output))"
   ]
  },
  {
   "cell_type": "markdown",
   "metadata": {},
   "source": [
    "## Reflections\n",
    "\n",
    "Congratulations on finding the lane lines!  As the final step in this project, we would like you to share your thoughts on your lane finding pipeline... specifically, how could you imagine making your algorithm better / more robust?  Where will your current algorithm be likely to fail?\n",
    "\n",
    "Please add your thoughts below,  and if you're up for making your pipeline more robust, be sure to scroll down and check out the optional challenge video below!\n"
   ]
  },
  {
   "cell_type": "markdown",
   "metadata": {},
   "source": [
    "___\n",
    "_Although the current pipeline works well for the test videos and images, there are many places where further improvement would be very welcomed, starting for the overall elegance of the code. Most functions do not perform necessary checks on the input data, which leads to runtime errors very difficult to spot. The use of global state to keep the detected lane lines steady in the videos (i.e., the history dict) harms the reusability and overall transparency of the code; a more functional approach would be a good fit here._\n",
    "\n",
    "_There are occassions where some wild NaNs emerge and impede the correct processing of the image. The region mask isn't very wide, so a different camera setting or placing would probably break the pipeline. Some default parameters for the Hough Transform, Gaussian Blur and Canny Edge Detection algorithms would improve the code's flexibility._\n",
    "\n",
    "_I found this project very challenging but fun and rewarding as well. I imagine this is not how a real Self Driven Car spot the lines on the road, so I'm really curious about the nature of the actual method. Nevertheless, it has been a great exercise._\n",
    "___"
   ]
  },
  {
   "cell_type": "markdown",
   "metadata": {},
   "source": [
    "## Submission\n",
    "\n",
    "If you're satisfied with your video outputs it's time to submit!  Submit this ipython notebook for review.\n"
   ]
  },
  {
   "cell_type": "markdown",
   "metadata": {
    "collapsed": true
   },
   "source": [
    "## Optional Challenge\n",
    "\n",
    "Try your lane finding pipeline on the video below.  Does it still work?  Can you figure out a way to make it more robust?  If you're up for the challenge, modify your pipeline so it works with this video and submit it along with the rest of your project!"
   ]
  },
  {
   "cell_type": "code",
   "execution_count": null,
   "metadata": {
    "collapsed": false
   },
   "outputs": [],
   "source": [
    "challenge_output = 'extra.mp4'\n",
    "clip2 = VideoFileClip('challenge.mp4')\n",
    "challenge_clip = clip2.fl_image(process_image)\n",
    "%time challenge_clip.write_videofile(challenge_output, audio=False)"
   ]
  },
  {
   "cell_type": "code",
   "execution_count": null,
   "metadata": {
    "collapsed": false
   },
   "outputs": [],
   "source": [
    "HTML(\"\"\"\n",
    "<video width=\"960\" height=\"540\" controls>\n",
    "  <source src=\"{0}\">\n",
    "</video>\n",
    "\"\"\".format(challenge_output))"
   ]
  },
  {
   "cell_type": "code",
   "execution_count": null,
   "metadata": {
    "collapsed": true
   },
   "outputs": [],
   "source": []
  }
 ],
 "metadata": {
  "anaconda-cloud": {},
  "kernelspec": {
   "display_name": "Python [conda root]",
   "language": "python",
   "name": "conda-root-py"
  },
  "language_info": {
   "codemirror_mode": {
    "name": "ipython",
    "version": 3
   },
   "file_extension": ".py",
   "mimetype": "text/x-python",
   "name": "python",
   "nbconvert_exporter": "python",
   "pygments_lexer": "ipython3",
   "version": "3.5.2"
  }
 },
 "nbformat": 4,
 "nbformat_minor": 0
}
